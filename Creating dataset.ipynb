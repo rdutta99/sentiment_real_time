{
 "cells": [
  {
   "cell_type": "code",
   "execution_count": 1,
   "metadata": {},
   "outputs": [],
   "source": [
    "access_token = \"XXXXXXXXXXXXXX\"\n",
    "access_token_secret = \"XXXXXXXXXXXXXX\"\n",
    "consumer_key = \"XXXXXXXXXXXXXX\"\n",
    "consumer_secret = \"XXXXXXXXXXXXXX\""
   ]
  },
  {
   "cell_type": "code",
   "execution_count": 2,
   "metadata": {},
   "outputs": [],
   "source": [
    "from tweepy.streaming import StreamListener\n",
    "from tweepy import OAuthHandler\n",
    "import tweepy\n",
    "import pymongo,json\n",
    "from textblob import TextBlob \n",
    "import re \n",
    "import sys\n",
    "import pandas as pd\n",
    "import pprint\n",
    "\n",
    "class TwitterClient(object): \n",
    "    \n",
    "    def clean_tweet(self, tweet): \n",
    "        return ' '.join(re.sub(\"(@[A-Za-z0-9]+)|([^0-9A-Za-z \\t])|(\\w+:\\/\\/\\S+)\", \" \", tweet).split()) \n",
    "    def get_tweet_sentiment(self, tweet): \n",
    "        analysis = TextBlob(self.clean_tweet(tweet))  \n",
    "        if analysis.sentiment.polarity > 0: \n",
    "            return 'positive'\n",
    "        elif analysis.sentiment.polarity == 0: \n",
    "            return 'neutral'\n",
    "        else: \n",
    "            return 'negative'"
   ]
  },
  {
   "cell_type": "code",
   "execution_count": 7,
   "metadata": {},
   "outputs": [
    {
     "name": "stdout",
     "output_type": "stream",
     "text": [
      "closed\n",
      "closed\n",
      "closed\n",
      "closed\n",
      "closed\n",
      "closed\n",
      "closed\n",
      "closed\n"
     ]
    },
    {
     "ename": "SystemExit",
     "evalue": "Limit reached",
     "output_type": "error",
     "traceback": [
      "An exception has occurred, use %tb to see the full traceback.\n",
      "\u001b[1;31mSystemExit\u001b[0m\u001b[1;31m:\u001b[0m Limit reached\n"
     ]
    }
   ],
   "source": [
    "class StdOutListener(StreamListener,TwitterClient):\n",
    "    def __init__(self,maxtweets):\n",
    "        super(StdOutListener, self).__init__()\n",
    "        self.maxtweets=maxtweets\n",
    "        self.ctr=0\n",
    "    def mongo(self,data):\n",
    "        connection = pymongo.MongoClient(\"mongodb://localhost\")\n",
    "        db=connection[\"Tweets\"]\n",
    "        record = db[\"tweet_collection\"]\n",
    "        record.insert_one(data)\n",
    "        connection.close()\n",
    "        if (self.ctr%1000)==0:\n",
    "            print('closed')\n",
    "        return True\n",
    "\n",
    "    def on_status(self, data):\n",
    "        tweets=[] \n",
    "        parsed_tweet={}\n",
    "        try: \n",
    "                data=json.dumps(data._json)\n",
    "                data=json.loads(data)\n",
    "                if data[\"text\"][0:2]=='RT':\n",
    "                    return 0\n",
    "                self.ctr=self.ctr+1\n",
    "                #print (data)\n",
    "                #print(\"----------------------------------------------------------------------\")\n",
    "                parsed_tweet['sname']= data[\"user\"][\"name\"]\n",
    "                try:\n",
    "                    parsed_tweet['text'] = data[\"extended_tweet\"][\"full_text\"]\n",
    "                    parsed_tweet['sentiment'] = self.get_tweet_sentiment(data[\"extended_tweet\"][\"full_text\"])\n",
    "                except:\n",
    "                    parsed_tweet['text'] = data[\"text\"]\n",
    "                    parsed_tweet['sentiment'] = self.get_tweet_sentiment(data[\"text\"])\n",
    "                \n",
    "                '''if data[\"retweet_count\"] > 0:\n",
    "                    if parsed_tweet not in tweets: \n",
    "                        tweets.append(parsed_tweet) \n",
    "                else: '''\n",
    "                tweets.append(parsed_tweet)\n",
    "                if  self.ctr>self.maxtweets:\n",
    "                    sys.exit('Limit reached')\n",
    "                #print(tweets)\n",
    "                self.mongo(parsed_tweet)\n",
    "                 \n",
    "        except tweepy.TweepError as e: \n",
    "            print(\"Error : \" + str(e)) \n",
    "    def on_error(self, status):\n",
    "        print (status)\n",
    "\n",
    "\n",
    "if __name__ == '__main__':\n",
    "    l = StdOutListener(8000)\n",
    "    auth = OAuthHandler(consumer_key, consumer_secret)\n",
    "    auth.set_access_token(access_token, access_token_secret)\n",
    "    stream = tweepy.Stream(auth, l,tweet_mode='extended')\n",
    "    stream.filter(languages=[\"en\"],track=[\"Game\",\"Thrones\"])"
   ]
  },
  {
   "cell_type": "code",
   "execution_count": null,
   "metadata": {},
   "outputs": [],
   "source": []
  }
 ],
 "metadata": {
  "kernelspec": {
   "display_name": "Python 3",
   "language": "python",
   "name": "python3"
  },
  "language_info": {
   "codemirror_mode": {
    "name": "ipython",
    "version": 3
   },
   "file_extension": ".py",
   "mimetype": "text/x-python",
   "name": "python",
   "nbconvert_exporter": "python",
   "pygments_lexer": "ipython3",
   "version": "3.6.6"
  }
 },
 "nbformat": 4,
 "nbformat_minor": 2
}
